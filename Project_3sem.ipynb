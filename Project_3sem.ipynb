{
 "cells": [
  {
   "cell_type": "markdown",
   "metadata": {},
   "source": [
    "<head>\n",
    "    <style>h1 {font-size: 30px; text-align: center; color: #ff8c00}</style>\n",
    "    <style>h2 {font-size: 26px; text-align: left; color: #ff8c00}</style>\n",
    "    <style>p  {font-size: 18px; text-align: left}</style>\n",
    "    <style>f- {color: #ff8c00}</style>\n",
    "    <style>f-- {color: #71e1fe}</style>\n",
    "</head>\n",
    "<body>\n",
    "    <h1>Проектный практикум (3 семестр - учебная задача)</h1>\n",
    "    <h2>Вступление</h2>\n",
    "    <p>Цель данной работы - получение модели МО, способной генерировать текстовые отзывы о различных местах на основе определенных входных параметров, таких как категория места, средний рейтинг и ключевые слова. <a href=\"https://www.kaggle.com/datasets/kyakovlev/yandex-geo-reviews-dataset-2023\">Датасет</a>, на основе которого необходимо решить поставленную задачу, представляет из себя набор русскоязычных отзывов об организациях, опубликованных на Яндекс-картах.</p>\n",
    "</body>"
   ]
  },
  {
   "cell_type": "code",
   "execution_count": 12,
   "metadata": {},
   "outputs": [],
   "source": [
    "# (ЗАПУСКАТЬ ВСЕГДА) Импорты\n",
    "\n",
    "import warnings\n",
    "warnings.filterwarnings('ignore')\n",
    "\n",
    "import matplotlib.pyplot as plt\n",
    "import pandas as pd\n",
    "import numpy as np\n",
    "import random\n",
    "import re\n",
    "\n",
    "import torch\n",
    "from transformers import DataCollatorForLanguageModeling\n",
    "from transformers import GPT2LMHeadModel, GPT2Tokenizer, Trainer, TrainingArguments\n",
    "from transformers import pipeline\n",
    "from datasets import Dataset\n",
    "\n",
    "warnings.filterwarnings('default')"
   ]
  },
  {
   "cell_type": "code",
   "execution_count": 2,
   "metadata": {},
   "outputs": [],
   "source": [
    "# (ЗАПУСКАТЬ ВСЕГДА) Вспомогательная функция columns_info\n",
    "\n",
    "def columns_info(source_df, max_number_of_unique_print = 6):\n",
    "    print('Число столбцов: ' + str(source_df.shape[1]))\n",
    "    print('Число строк:    ' + str(source_df.shape[0]) + ' (' + str(source_df.duplicated().sum()) + ' повторов)')\n",
    "    column_name_max_len = 0\n",
    "    column_type_max_len = 0\n",
    "    for each in list(source_df.columns):\n",
    "        if len(each) > column_name_max_len:\n",
    "            column_name_max_len = len(each)\n",
    "        if len(str(source_df[each].dtype)) > column_type_max_len:\n",
    "            column_type_max_len = len(str(source_df[each].dtype))\n",
    "    number_max_len = len(str(source_df.shape[0]))\n",
    "    print(int(11 + column_name_max_len + 18 + number_max_len + 27 + number_max_len + 2 + column_type_max_len)*'-')\n",
    "    for each_column in list(source_df.columns):\n",
    "        res = 'Столбец ' + ('\"' + each_column + '\"').ljust(column_name_max_len + 2) + ' '\n",
    "        number_of_nan = source_df[each_column].isnull().sum()\n",
    "        res += 'Число пропусков: ' + str(number_of_nan if number_of_nan > 0 else '-').ljust(number_max_len) + ' '\n",
    "        list_of_unique = list(source_df[each_column].unique())\n",
    "        number_of_unique = len(list_of_unique)\n",
    "        res += 'Число уникальных значений: ' + str(number_of_unique).ljust(number_max_len)\n",
    "        res += ' ' + str(source_df[each_column].dtype).ljust(column_type_max_len) + ' '\n",
    "        if number_of_unique <= max_number_of_unique_print:\n",
    "            res += ' ' + str(list_of_unique)\n",
    "        else:\n",
    "            res += ' ' + str(list_of_unique[:max_number_of_unique_print])[:-1] + ', ...'\n",
    "        print(res)\n"
   ]
  },
  {
   "cell_type": "code",
   "execution_count": 3,
   "metadata": {},
   "outputs": [],
   "source": [
    "# (ЗАПУСКАТЬ ВСЕГДА) Установка random seed для воспроизводимости\n",
    "\n",
    "SEED = 5553535\n",
    "\n",
    "random.seed(SEED)\n",
    "np.random.seed(SEED)\n",
    "torch.manual_seed(SEED)\n",
    "if torch.cuda.is_available():\n",
    "    torch.cuda.manual_seed_all(SEED)"
   ]
  },
  {
   "cell_type": "markdown",
   "metadata": {},
   "source": [
    "<head>\n",
    "    <style>h1 {font-size: 30px; text-align: center; color: #ff8c00}</style>\n",
    "    <style>h2 {font-size: 26px; text-align: left; color: #ff8c00}</style>\n",
    "    <style>p  {font-size: 18px; text-align: left}</style>\n",
    "    <style>f- {color: #ff8c00}</style>\n",
    "    <style>f-- {color: #71e1fe}</style>\n",
    "</head>\n",
    "<body>\n",
    "    <h2>Загрузка данных</h2>\n",
    "    <p>Прочитаем и оценим данные.</p>\n",
    "</body>"
   ]
  },
  {
   "cell_type": "code",
   "execution_count": 4,
   "metadata": {},
   "outputs": [],
   "source": [
    "# (ЗАПУСКАТЬ ВСЕГДА) Загрузка датасета\n",
    "\n",
    "# Так как скачать данные с указанного репозитория не получилось из-за:\n",
    "# This repository is over its data quota. Account responsible for LFS bandwidth should purchase more data packs to restore access.\n",
    "# Датасет был скачан с оригинального источника:\n",
    "# https://www.kaggle.com/datasets/kyakovlev/yandex-geo-reviews-dataset-2023\n",
    "\n",
    "DATASET_TSKV_PATH = \"geo-reviews-dataset-2023.tskv\"\n",
    "\n",
    "# Чтение файла построчно и парсинг ключ=значение\n",
    "data = []\n",
    "with open(DATASET_TSKV_PATH, 'r', encoding='utf-8') as file:\n",
    "    for line in file:\n",
    "        # Разделяем строку по табуляции\n",
    "        pairs = line.strip().split('\\t')\n",
    "        record = {}\n",
    "        for pair in pairs:\n",
    "            if '=' in pair:\n",
    "                key, value = pair.split('=', 1)\n",
    "                record[key.strip()] = value.strip()\n",
    "        data.append(record)\n",
    "\n",
    "# Создание DataFrame\n",
    "df_raw = pd.DataFrame(data)\n",
    "df = df_raw.copy(deep=True)"
   ]
  },
  {
   "cell_type": "code",
   "execution_count": 5,
   "metadata": {},
   "outputs": [
    {
     "name": "stdout",
     "output_type": "stream",
     "text": [
      "Число столбцов: 5\n",
      "Число строк:    500000 (1 повторов)\n",
      "-----------------------------------------------------------------------------------\n",
      "Столбец \"address\" Число пропусков: -      Число уникальных значений: 191916 object  ['Екатеринбург, ул. Московская / ул. Волгоградская / ул. Печатников', 'Московская область, Электросталь, проспект Ленина, 29', 'Краснодар, Прикубанский внутригородской округ, микрорайон имени Петра Метальникова, улица Петра Метальникова, 26', 'Санкт-Петербург, проспект Энгельса, 111, корп. 1', 'Тверь, Волоколамский проспект, 39', 'Иркутская область, Черемхово, Первомайская улица, 199В', ...\n",
      "Столбец \"name_ru\" Число пропусков: 970    Число уникальных значений: 148457 object  ['Московский квартал', 'Продукты Ермолино', 'LimeFit', 'Snow-Express', 'Студия Beauty Brow', 'Tele2', ...\n",
      "Столбец \"rating\"  Число пропусков: -      Число уникальных значений: 6      object  ['3.', '5.', '1.', '4.', '2.', '0.']\n",
      "Столбец \"rubrics\" Число пропусков: -      Число уникальных значений: 31793  object  ['Жилой комплекс', 'Магазин продуктов;Продукты глубокой заморозки;Магазин мяса, колбас', 'Фитнес-клуб', 'Пункт проката;Прокат велосипедов;Сапсёрфинг', 'Салон красоты;Визажисты, стилисты;Салон бровей и ресниц', 'Оператор сотовой связи;Интернет-провайдер', ...\n",
      "Столбец \"text\"    Число пропусков: -      Число уникальных значений: 499862 object  ['Московский квартал 2.\\\\nШумно : летом по ночам дикие гонки. Грязно : кругом стройки, невозможно открыть окна (16 этаж! ), вечно по району летает мусор. Детские площадки убогие, на большой площади однотипные конструкции. Очень дорогая коммуналка. Часто срабатывает пожарная сигнализация. Жильцы уже не реагируют. В это время, обычно около часа, не работают лифты. Из плюсов - отличная планировка квартир ( Московская 194 ), на мой взгляд. Ремонт от застройщика на 3-. Окна вообще жуть - вместо вентиляции. По соотношению цена/качество - 3.', 'Замечательная сеть магазинов в общем, хороший ассортимент, цены приемлемые, а главное качество на высоте!!! Спасибо тем, кто открыл сеть этих магазинчиков!!!!', 'Не знаю смутят ли кого-то данные правила, но я была удивлена: \\\\n1. Хочешь что бы твой шкаф замыкался - купи замочек\\\\n2. Ты должен предоставить свой отпечаток пальца (полнейшая дичь) \\\\n3. Ставят подпись на договоре с клиентом по доверенности , графу с номером доверенности оставляют пустой , а на вопрос о номере доверенности говорят номер «2»\\\\nВы серьезно? Номер 2? \\\\nПредоставить доверенность не могут, но говорят что у них в клубе «свои» доверенности, типа особенные какие-то \\\\nЦирк.', 'Хорошие условия аренды. \\\\nДружелюбный персонал.\\\\nНо иногда бывают неутоюбные ботинки и крепления для сноуборда .\\\\nНо у меня редкий размер ноги', 'Топ мастер Ангелина топ во всех смыслах ) Немного волновалась перед посещением, потому что первый раз делала брови и ресницы. Ушла довольная максимально. Понравилось всё, от итога работы до отношения мастера. Всё объяснили рассказали, как проходит процедура, как ухаживать за результатом, даже щеточки дали для бровей))) Жаль уезжаю из Твери, так бы ходила только сюда! )', 'Приятное общение, все доступно объяснили, мне понравилось', ...\n"
     ]
    }
   ],
   "source": [
    "columns_info(df_raw)"
   ]
  },
  {
   "cell_type": "code",
   "execution_count": 6,
   "metadata": {},
   "outputs": [
    {
     "data": {
      "image/png": "[encoded data removed]",
      "text/plain": [
       "<Figure size 900x400 with 1 Axes>"
      ]
     },
     "metadata": {},
     "output_type": "display_data"
    }
   ],
   "source": [
    "# Визуализация распределения рейтингов отзывов\n",
    "\n",
    "plt.style.use('dark_background')\n",
    "rating_counts = df_raw['rating'].value_counts().sort_index()\n",
    "plt.figure(figsize=(9,4))\n",
    "rating_counts.plot(kind='bar')\n",
    "plt.title('Распределение рейтингов в датасете')\n",
    "plt.xlabel('Рейтинг')\n",
    "plt.ylabel('Количество отзывов')\n",
    "plt.show()"
   ]
  },
  {
   "cell_type": "markdown",
   "metadata": {},
   "source": [
    "<head>\n",
    "    <style>h1 {font-size: 30px; text-align: center; color: #ff8c00}</style>\n",
    "    <style>h2 {font-size: 26px; text-align: left; color: #ff8c00}</style>\n",
    "    <style>p  {font-size: 18px; text-align: left}</style>\n",
    "    <style>f- {color: #ff8c00}</style>\n",
    "    <style>f-- {color: #71e1fe}</style>\n",
    "</head>\n",
    "<body>\n",
    "    <p>Оценим имеющиеся данные и их потенциальную полезность для решения поставленной задачи:</p>\n",
    "    <ul>\n",
    "    <li>Столбец \"<f-->address</f-->\". Число уникальных значений составляет примерно треть от общего числа записей. В текущем виде использовать его для обучения будет непросто из-за того, что для значительной части данных для каждого конкретного местоположения будет слишком мало примеров отзывов. К тому же, организации могут открываться/закрываться/переезжать, поэтому пытаться привязывать отзывы к конкретным адресам не кажется слишком уж перспективной идеей. Можно было бы попробовать вычленить названия городов/областей, но это может стать потенциально неэтичным, т.к. у модели может появится предвзятость, основанная на конкретной локации (в каком-нибудь небольшом городке много плохих отзывов и поэтому даже у хорошего места отзыв может быть хуже, просто из-за его расположения, что может расстроить местных жителей). Было решено не использовать данный столбец для построения модели.</li>\n",
    "    <li>Столбец \"<f-->name_ru</f-->\". Аналогично предыдущему столбцу - слишком много (~30 процентов) уникальных значений. К тому же, данный столбец содержит конкретные названия организаций, а не обобщенные категории мест (что требуется в задании). Если бы не было бы столбца \"rubrics\", то в теории можно было бы попытаться с помощью внешних источников по названиям фирм получить данные о категории места, но в нашем случае подобная информация у нас уже есть. Было решено так же не использовать данный столбец для построения модели.</li>\n",
    "    <li>Столбец \"<f-->rating</f-->\". Данный столбец, очевидно, крайне необходим для нас, к тому же, он содержит всего 6 уникальных значений и практически сразу готов к использованию. Единственное, из-за экстремально низкого количества отзывов с оценкой 0, заменим их на оценку 1.</li>\n",
    "    <li>Столбец \"<f-->rubrics</f-->\". Важнейший столбец, который содержит данные, которые можно одновременно интерпретировать как обобщенные категории мест, так и как ключевые слова.</li>\n",
    "    <li>Столбец \"<f-->text</f-->\". Основной столбец с данными.</li>\n",
    "    </ul>\n",
    "    <p>Так же, немного забегая вперед и учитывая, что в качестве модели будет выбранная большая языковая модель на основе GPT-2, можно сказать что особо предобрабатывать данные не нужно, т.к. подобные модели обучались и рассчитаны именно на необработанные текстовые данные. Поэтому далее будет проведена лишь минимальная предобработка датасета.</p>\n",
    "</body>"
   ]
  },
  {
   "cell_type": "markdown",
   "metadata": {},
   "source": [
    "<head>\n",
    "    <style>h1 {font-size: 30px; text-align: center; color: #ff8c00}</style>\n",
    "    <style>h2 {font-size: 26px; text-align: left; color: #ff8c00}</style>\n",
    "    <style>p  {font-size: 18px; text-align: left}</style>\n",
    "    <style>f- {color: #ff8c00}</style>\n",
    "    <style>f-- {color: #71e1fe}</style>\n",
    "</head>\n",
    "<body>\n",
    "    <h2>Предобработка данных</h2>\n",
    "    <p>Как уже было сказано ранее, в данной работе будет использоваться предобученная русскоязычная модель на основе GPT-2. Поэтому, в ячейке ниже, помимо базовой предобработки будет так же произведено финальное преобразование данных в один слолбец, который будет представлять из себя промт для GPT + пример желаемого текстового отзыва.</p>\n",
    "</body>"
   ]
  },
  {
   "cell_type": "code",
   "execution_count": 7,
   "metadata": {},
   "outputs": [],
   "source": [
    "# (ЗАПУСКАТЬ ВСЕГДА) Предобработка данных\n",
    "\n",
    "# Преобразуем рейтинг к числу\n",
    "df[\"rating\"] = df[\"rating\"].apply(lambda x: str(x)[0])\n",
    "df[\"rating\"] = df[\"rating\"].apply(lambda x: str(1) if str(x) == '0' else str(x))\n",
    "df[\"rating\"] = df[\"rating\"].astype(int)\n",
    "\n",
    "# Примерно ограничим длину text, чтобы не обучать на совсем огромных:\n",
    "df = df[df[\"text\"].str.len() > 10]    # убираем совсем короткое\n",
    "df = df[df[\"text\"].str.len() < 2000]  # и слишком длинное (порог произвольный)\n",
    "\n",
    "# В тексте была замечена неккоретная запись управляющего символа перевода строки\n",
    "df[\"text\"] = df[\"text\"].apply(lambda x: re.sub(r'\\\\n', r'\\n', x))\n",
    "\n",
    "# Объединим rating и rubrics в один \"промпт\"\n",
    "def make_prompt(rating, rubrics):\n",
    "    return f\"Rating: {rating:.1f} | Rubrics: {rubrics}\\nОтзыв: \"\n",
    "\n",
    "df[\"prompt\"] = df.apply(lambda row: make_prompt(row[\"rating\"], row[\"rubrics\"]), axis=1)\n",
    "\n",
    "# Создадим общий текст для LM: prompt + отзыв\n",
    "df[\"full_text\"] = df[\"prompt\"] + df[\"text\"]\n",
    "\n",
    "df = df.drop_duplicates(subset=['full_text'], keep=False)\n",
    "df = df.reset_index(drop=True)"
   ]
  },
  {
   "cell_type": "code",
   "execution_count": 8,
   "metadata": {},
   "outputs": [
    {
     "name": "stdout",
     "output_type": "stream",
     "text": [
      "Число столбцов: 7\n",
      "Число строк:    498222 (0 повторов)\n",
      "-------------------------------------------------------------------------------------\n",
      "Столбец \"address\"   Число пропусков: -      Число уникальных значений: 191572 object  ['Екатеринбург, ул. Московская / ул. Волгоградская / ул. Печатников', 'Московская область, Электросталь, проспект Ленина, 29', 'Краснодар, Прикубанский внутригородской округ, микрорайон имени Петра Метальникова, улица Петра Метальникова, 26', 'Санкт-Петербург, проспект Энгельса, 111, корп. 1', 'Тверь, Волоколамский проспект, 39', 'Иркутская область, Черемхово, Первомайская улица, 199В', ...\n",
      "Столбец \"name_ru\"   Число пропусков: 967    Число уникальных значений: 148126 object  ['Московский квартал', 'Продукты Ермолино', 'LimeFit', 'Snow-Express', 'Студия Beauty Brow', 'Tele2', ...\n",
      "Столбец \"rating\"    Число пропусков: -      Число уникальных значений: 5      int32   [3, 5, 1, 4, 2]\n",
      "Столбец \"rubrics\"   Число пропусков: -      Число уникальных значений: 31744  object  ['Жилой комплекс', 'Магазин продуктов;Продукты глубокой заморозки;Магазин мяса, колбас', 'Фитнес-клуб', 'Пункт проката;Прокат велосипедов;Сапсёрфинг', 'Салон красоты;Визажисты, стилисты;Салон бровей и ресниц', 'Оператор сотовой связи;Интернет-провайдер', ...\n",
      "Столбец \"text\"      Число пропусков: -      Число уникальных значений: 498119 object  ['Московский квартал 2.\\nШумно : летом по ночам дикие гонки. Грязно : кругом стройки, невозможно открыть окна (16 этаж! ), вечно по району летает мусор. Детские площадки убогие, на большой площади однотипные конструкции. Очень дорогая коммуналка. Часто срабатывает пожарная сигнализация. Жильцы уже не реагируют. В это время, обычно около часа, не работают лифты. Из плюсов - отличная планировка квартир ( Московская 194 ), на мой взгляд. Ремонт от застройщика на 3-. Окна вообще жуть - вместо вентиляции. По соотношению цена/качество - 3.', 'Замечательная сеть магазинов в общем, хороший ассортимент, цены приемлемые, а главное качество на высоте!!! Спасибо тем, кто открыл сеть этих магазинчиков!!!!', 'Не знаю смутят ли кого-то данные правила, но я была удивлена: \\n1. Хочешь что бы твой шкаф замыкался - купи замочек\\n2. Ты должен предоставить свой отпечаток пальца (полнейшая дичь) \\n3. Ставят подпись на договоре с клиентом по доверенности , графу с номером доверенности оставляют пустой , а на вопрос о номере доверенности говорят номер «2»\\nВы серьезно? Номер 2? \\nПредоставить доверенность не могут, но говорят что у них в клубе «свои» доверенности, типа особенные какие-то \\nЦирк.', 'Хорошие условия аренды. \\nДружелюбный персонал.\\nНо иногда бывают неутоюбные ботинки и крепления для сноуборда .\\nНо у меня редкий размер ноги', 'Топ мастер Ангелина топ во всех смыслах ) Немного волновалась перед посещением, потому что первый раз делала брови и ресницы. Ушла довольная максимально. Понравилось всё, от итога работы до отношения мастера. Всё объяснили рассказали, как проходит процедура, как ухаживать за результатом, даже щеточки дали для бровей))) Жаль уезжаю из Твери, так бы ходила только сюда! )', 'Приятное общение, все доступно объяснили, мне понравилось', ...\n",
      "Столбец \"prompt\"    Число пропусков: -      Число уникальных значений: 46642  object  ['Rating: 3.0 | Rubrics: Жилой комплекс\\nОтзыв: ', 'Rating: 5.0 | Rubrics: Магазин продуктов;Продукты глубокой заморозки;Магазин мяса, колбас\\nОтзыв: ', 'Rating: 1.0 | Rubrics: Фитнес-клуб\\nОтзыв: ', 'Rating: 4.0 | Rubrics: Пункт проката;Прокат велосипедов;Сапсёрфинг\\nОтзыв: ', 'Rating: 5.0 | Rubrics: Салон красоты;Визажисты, стилисты;Салон бровей и ресниц\\nОтзыв: ', 'Rating: 5.0 | Rubrics: Оператор сотовой связи;Интернет-провайдер\\nОтзыв: ', ...\n",
      "Столбец \"full_text\" Число пропусков: -      Число уникальных значений: 498222 object  ['Rating: 3.0 | Rubrics: Жилой комплекс\\nОтзыв: Московский квартал 2.\\nШумно : летом по ночам дикие гонки. Грязно : кругом стройки, невозможно открыть окна (16 этаж! ), вечно по району летает мусор. Детские площадки убогие, на большой площади однотипные конструкции. Очень дорогая коммуналка. Часто срабатывает пожарная сигнализация. Жильцы уже не реагируют. В это время, обычно около часа, не работают лифты. Из плюсов - отличная планировка квартир ( Московская 194 ), на мой взгляд. Ремонт от застройщика на 3-. Окна вообще жуть - вместо вентиляции. По соотношению цена/качество - 3.', 'Rating: 5.0 | Rubrics: Магазин продуктов;Продукты глубокой заморозки;Магазин мяса, колбас\\nОтзыв: Замечательная сеть магазинов в общем, хороший ассортимент, цены приемлемые, а главное качество на высоте!!! Спасибо тем, кто открыл сеть этих магазинчиков!!!!', 'Rating: 1.0 | Rubrics: Фитнес-клуб\\nОтзыв: Не знаю смутят ли кого-то данные правила, но я была удивлена: \\n1. Хочешь что бы твой шкаф замыкался - купи замочек\\n2. Ты должен предоставить свой отпечаток пальца (полнейшая дичь) \\n3. Ставят подпись на договоре с клиентом по доверенности , графу с номером доверенности оставляют пустой , а на вопрос о номере доверенности говорят номер «2»\\nВы серьезно? Номер 2? \\nПредоставить доверенность не могут, но говорят что у них в клубе «свои» доверенности, типа особенные какие-то \\nЦирк.', 'Rating: 4.0 | Rubrics: Пункт проката;Прокат велосипедов;Сапсёрфинг\\nОтзыв: Хорошие условия аренды. \\nДружелюбный персонал.\\nНо иногда бывают неутоюбные ботинки и крепления для сноуборда .\\nНо у меня редкий размер ноги', 'Rating: 5.0 | Rubrics: Салон красоты;Визажисты, стилисты;Салон бровей и ресниц\\nОтзыв: Топ мастер Ангелина топ во всех смыслах ) Немного волновалась перед посещением, потому что первый раз делала брови и ресницы. Ушла довольная максимально. Понравилось всё, от итога работы до отношения мастера. Всё объяснили рассказали, как проходит процедура, как ухаживать за результатом, даже щеточки дали для бровей))) Жаль уезжаю из Твери, так бы ходила только сюда! )', 'Rating: 5.0 | Rubrics: Оператор сотовой связи;Интернет-провайдер\\nОтзыв: Приятное общение, все доступно объяснили, мне понравилось', ...\n"
     ]
    }
   ],
   "source": [
    "columns_info(df)"
   ]
  },
  {
   "cell_type": "code",
   "execution_count": 9,
   "metadata": {},
   "outputs": [
    {
     "name": "stdout",
     "output_type": "stream",
     "text": [
      "\n",
      "Отзыв 104609 (full_text):\n",
      "\n",
      "Rating: 4.0 | Rubrics: Строительный магазин\n",
      "Отзыв: Сегодня зашел в магазин купить 5 мешков. Что-бы не ходить по всему магазину, спросил у кассира где их найти. В ответ услышал, проходите в зал , они там. Для чего спрашивал? Пошел в Леруа и купил, там более приветливый персонал. А сам магазин хороший.\n"
     ]
    }
   ],
   "source": [
    "# Случайный пример отзыва (промт + текст)\n",
    "\n",
    "random_index = random.randint(0, df.shape[0]-1)\n",
    "\n",
    "print()\n",
    "print(\"Отзыв {:} (full_text):\".format(random_index))\n",
    "print()\n",
    "print(df[\"full_text\"].iloc[random_index])"
   ]
  },
  {
   "cell_type": "code",
   "execution_count": 10,
   "metadata": {},
   "outputs": [],
   "source": [
    "#df = df.iloc[:1_000] # Закомментировать в финальной версии!"
   ]
  },
  {
   "cell_type": "markdown",
   "metadata": {},
   "source": [
    "<head>\n",
    "    <style>h1 {font-size: 30px; text-align: center; color: #ff8c00}</style>\n",
    "    <style>h2 {font-size: 26px; text-align: left; color: #ff8c00}</style>\n",
    "    <style>p  {font-size: 18px; text-align: left}</style>\n",
    "    <style>f- {color: #ff8c00}</style>\n",
    "    <style>f-- {color: #71e1fe}</style>\n",
    "</head>\n",
    "<body>\n",
    "    <h2>Предобученная большая языковая модель (GPT-2-based)</h2>\n",
    "    <p>Так как дообучение GPT занимает очень много времени и крайне требовательно к аппаратным ресурсам компьютера в качестве конкретной общедоступной версии GPT придется выбрать '<f-->sberbank-ai/rugpt3small_based_on_gpt2</f-->'. Данная модель даст не самые лучшие результаты, однако для учебного проекта её будет достаточно.</p>\n",
    "</body>"
   ]
  },
  {
   "cell_type": "code",
   "execution_count": 11,
   "metadata": {},
   "outputs": [
    {
     "name": "stdout",
     "output_type": "stream",
     "text": [
      "There are 1 GPU(s) available.\n",
      "We will use the GPU: NVIDIA GeForce RTX 3060\n"
     ]
    }
   ],
   "source": [
    "# (ЗАПУСКАТЬ ВСЕГДА) Загрузка модели и соответствующего токенайзера, а так же проверка наличия и готовности GPU\n",
    "\n",
    "def get_device():\n",
    "    if torch.cuda.is_available():\n",
    "        device = torch.device(\"cuda\")\n",
    "        print('There are %d GPU(s) available.' % torch.cuda.device_count())\n",
    "        print('We will use the GPU:', torch.cuda.get_device_name(0))\n",
    "    else:\n",
    "        print('No GPU available, using the CPU instead.')\n",
    "        device = torch.device(\"cpu\")\n",
    "    return device\n",
    "\n",
    "DEVICE = get_device()\n",
    "\n",
    "# (~49Gb) одна из самых больших, свежих и высокооцененных общедоступных моделей на Hagging Face\n",
    "#model_name = \"ai-forever/ruGPT-3.5-13B\"\n",
    "# (~8.8Gb) так же популярная, свежая и более легковесная модель\n",
    "#model_name = \"ai-forever/rugpt3large_based_on_gpt2\"\n",
    "# (~3.2Gb) еще более легковесный вариант\n",
    "#model_name = \"sberbank-ai/rugpt2large\"\n",
    "# (~0.5Gb) легкая и не такая качественная, но весьма популярная модель со сравнительно низкими аппаратными требованиями\n",
    "model_name = \"sberbank-ai/rugpt3small_based_on_gpt2\"\n",
    "\n",
    "warnings.filterwarnings('ignore')\n",
    "tokenizer = GPT2Tokenizer.from_pretrained(model_name)\n",
    "model = GPT2LMHeadModel.from_pretrained(model_name)\n",
    "warnings.filterwarnings('default')"
   ]
  },
  {
   "cell_type": "markdown",
   "metadata": {},
   "source": [
    "<head>\n",
    "    <style>h1 {font-size: 30px; text-align: center; color: #ff8c00}</style>\n",
    "    <style>h2 {font-size: 26px; text-align: left; color: #ff8c00}</style>\n",
    "    <style>p  {font-size: 18px; text-align: left}</style>\n",
    "    <style>f- {color: #ff8c00}</style>\n",
    "    <style>f-- {color: #71e1fe}</style>\n",
    "    <style>f--- {color: #e032e3}</style>\n",
    "</head>\n",
    "<body>\n",
    "    <h2><f--->(всегда перезапускать до сюда (~30 секунд))</f---></h2>\n",
    "</body>"
   ]
  },
  {
   "cell_type": "code",
   "execution_count": 12,
   "metadata": {},
   "outputs": [],
   "source": [
    "# (пустая ячейка для нажатия 'Execute Above Cells')"
   ]
  },
  {
   "cell_type": "markdown",
   "metadata": {},
   "source": [
    "<head>\n",
    "    <style>h1 {font-size: 30px; text-align: center; color: #ff8c00}</style>\n",
    "    <style>h2 {font-size: 26px; text-align: left; color: #ff8c00}</style>\n",
    "    <style>p  {font-size: 18px; text-align: left}</style>\n",
    "    <style>f- {color: #ff8c00}</style>\n",
    "    <style>f-- {color: #71e1fe}</style>\n",
    "    <style>w- {color: red}</style>\n",
    "</head>\n",
    "<body>\n",
    "    <h2><w->(начало блока обучения)</w-></h2>\n",
    "</body>"
   ]
  },
  {
   "cell_type": "markdown",
   "metadata": {},
   "source": [
    "<head>\n",
    "    <style>h1 {font-size: 30px; text-align: center; color: #ff8c00}</style>\n",
    "    <style>h2 {font-size: 26px; text-align: left; color: #ff8c00}</style>\n",
    "    <style>p  {font-size: 18px; text-align: left}</style>\n",
    "    <style>f- {color: #ff8c00}</style>\n",
    "    <style>f-- {color: #71e1fe}</style>\n",
    "</head>\n",
    "<body>\n",
    "    <p>Подготовим наш датасет для дообучения выбранной предобученной GPT модели.</p>\n",
    "    <p>*(Выполнение ячейки ниже занимает примерно <f->4 минуты 30 секунд</f-> (Intel Core i5-12400 + 32Gb-ddr5 + RTX3060(12Gb)))</p>\n",
    "</body>"
   ]
  },
  {
   "cell_type": "code",
   "execution_count": 13,
   "metadata": {},
   "outputs": [
    {
     "name": "stderr",
     "output_type": "stream",
     "text": [
      "Map: 100%|██████████| 498222/498222 [04:20<00:00, 1914.63 examples/s]\n"
     ]
    }
   ],
   "source": [
    "# (только для ячейки дообучения)\n",
    "\n",
    "# GPT2 обычно не имеет токена начала/конца предложения, иногда помогает добавить:\n",
    "tokenizer.pad_token = tokenizer.eos_token\n",
    "\n",
    "# Превратим наш pandas DataFrame в huggingface Dataset:\n",
    "hf_dataset = Dataset.from_pandas(df[[\"full_text\"]])  # оставляем 1 столбец, где весь текст\n",
    "\n",
    "# Функция токенизации\n",
    "def tokenize_function(examples):\n",
    "    return tokenizer(examples[\"full_text\"],\n",
    "                     truncation=True,\n",
    "                     max_length=512,  # ограничиваем до 512, чтобы не переполнять\n",
    "                     padding=\"max_length\")\n",
    "\n",
    "warnings.filterwarnings('ignore')\n",
    "tokenized_dataset = hf_dataset.map(tokenize_function, batched=True, remove_columns=[\"full_text\"])\n",
    "warnings.filterwarnings('default')\n",
    "\n",
    "# Разделим на train/test (90%/10%)\n",
    "split = tokenized_dataset.train_test_split(test_size=0.1, seed=SEED)\n",
    "train_dataset = split[\"train\"]\n",
    "eval_dataset = split[\"test\"]"
   ]
  },
  {
   "cell_type": "code",
   "execution_count": 14,
   "metadata": {},
   "outputs": [],
   "source": [
    "# (только для ячейки дообучения)\n",
    "\n",
    "# Trainer в transformers упрощает процесс fine-tuning. Нужно лишь указать TrainingArguments и передать датасеты.\n",
    "# Для Language Modeling ключевым полем будет \"labels\", которые у нас совпадают с input_ids (shifted внутри).\n",
    "# В tokenized_dataset токенайзер по умолчанию назвал эти поля [\"input_ids\", \"attention_mask\"].\n",
    "# Для GPT2 формально нужны: input_ids, attention_mask и labels, причём labels=input_ids (сдвиг происходит внутри модели).\n",
    "# Поэтому Trainer может сам это подхватить, если указать data_collator, который делает данные = inputs, labels.\n",
    "\n",
    "# Подготовим data_collator\n",
    "data_collator = DataCollatorForLanguageModeling(tokenizer=tokenizer, mlm=False)\n",
    "\n",
    "# Настраиваем TrainingArguments\n",
    "training_args = TrainingArguments(\n",
    "    output_dir=\"./trained_model\",\n",
    "    overwrite_output_dir=True,\n",
    "    eval_strategy=\"steps\",\n",
    "    eval_steps=10_000,\n",
    "    logging_strategy=\"no\",\n",
    "    save_strategy=\"no\",\n",
    "    #save_steps=10_000,\n",
    "    num_train_epochs=1,             # обучение очень тяжелое, придется ограничиться 1 эпохой\n",
    "    per_device_train_batch_size=8,  # оптимально для RTX3060(12Gb)\n",
    "    per_device_eval_batch_size=8,\n",
    "    warmup_steps=1_000,             # В финальной версии поставить 1_000 (!!!)\n",
    "    weight_decay=0.01,              # L2 regularization\n",
    "    learning_rate=5e-5,\n",
    "    fp16=True,                      # Использовать 16-битные вычисления, если GPU поддерживает\n",
    "    report_to=\"none\",\n",
    ")\n",
    "\n",
    "# Создаём Trainer\n",
    "trainer = Trainer(\n",
    "    model=model,\n",
    "    args=training_args,\n",
    "    data_collator=data_collator,\n",
    "    train_dataset=train_dataset,\n",
    "    eval_dataset=eval_dataset\n",
    ")"
   ]
  },
  {
   "cell_type": "markdown",
   "metadata": {},
   "source": [
    "<head>\n",
    "    <style>h1 {font-size: 30px; text-align: center; color: #ff8c00}</style>\n",
    "    <style>h2 {font-size: 26px; text-align: left; color: #ff8c00}</style>\n",
    "    <style>p  {font-size: 18px; text-align: left}</style>\n",
    "    <style>f- {color: #ff8c00}</style>\n",
    "    <style>f-- {color: #71e1fe}</style>\n",
    "    <style>w- {color: red}</style>\n",
    "</head>\n",
    "<body>\n",
    "    <h2>(ВНИМАНИЕ!) Запуск дообучения</h2>\n",
    "    <p>*(Выполнение ячейки ниже занимает примерно <f->7 (!) часов</f-> (Intel Core i5-12400 + 32Gb-ddr5 + RTX3060(12Gb)))</p>\n",
    "</body>"
   ]
  },
  {
   "cell_type": "code",
   "execution_count": 15,
   "metadata": {},
   "outputs": [
    {
     "name": "stderr",
     "output_type": "stream",
     "text": [
      "                                                         \n",
      " 18%|█▊        | 10000/56050 [1:15:13<4:49:30,  2.65it/s]"
     ]
    },
    {
     "name": "stdout",
     "output_type": "stream",
     "text": [
      "{'eval_loss': 2.5753955841064453, 'eval_runtime': 725.901, 'eval_samples_per_second': 68.636, 'eval_steps_per_second': 8.58, 'epoch': 0.18}\n"
     ]
    },
    {
     "name": "stderr",
     "output_type": "stream",
     "text": [
      "                                                             \n",
      " 36%|███▌      | 20000/56050 [2:30:12<3:46:59,  2.65it/s]"
     ]
    },
    {
     "name": "stdout",
     "output_type": "stream",
     "text": [
      "{'eval_loss': 2.5240678787231445, 'eval_runtime': 724.1229, 'eval_samples_per_second': 68.805, 'eval_steps_per_second': 8.601, 'epoch': 0.36}\n"
     ]
    },
    {
     "name": "stderr",
     "output_type": "stream",
     "text": [
      "                                                             \n",
      " 54%|█████▎    | 30000/56050 [3:45:15<2:43:59,  2.65it/s]"
     ]
    },
    {
     "name": "stdout",
     "output_type": "stream",
     "text": [
      "{'eval_loss': 2.490081310272217, 'eval_runtime': 723.9136, 'eval_samples_per_second': 68.825, 'eval_steps_per_second': 8.603, 'epoch': 0.54}\n"
     ]
    },
    {
     "name": "stderr",
     "output_type": "stream",
     "text": [
      "                                                             \n",
      " 71%|███████▏  | 40000/56050 [5:00:26<1:41:12,  2.64it/s]"
     ]
    },
    {
     "name": "stdout",
     "output_type": "stream",
     "text": [
      "{'eval_loss': 2.4654335975646973, 'eval_runtime': 725.2079, 'eval_samples_per_second': 68.702, 'eval_steps_per_second': 8.588, 'epoch': 0.71}\n"
     ]
    },
    {
     "name": "stderr",
     "output_type": "stream",
     "text": [
      "                                                            \n",
      " 89%|████████▉ | 50000/56050 [6:15:32<38:05,  2.65it/s]"
     ]
    },
    {
     "name": "stdout",
     "output_type": "stream",
     "text": [
      "{'eval_loss': 2.4433090686798096, 'eval_runtime': 723.1426, 'eval_samples_per_second': 68.898, 'eval_steps_per_second': 8.612, 'epoch': 0.89}\n"
     ]
    },
    {
     "name": "stderr",
     "output_type": "stream",
     "text": [
      "100%|██████████| 56050/56050 [6:53:35<00:00,  2.26it/s]     \n"
     ]
    },
    {
     "name": "stdout",
     "output_type": "stream",
     "text": [
      "{'train_runtime': 24815.8855, 'train_samples_per_second': 18.069, 'train_steps_per_second': 2.259, 'train_loss': 2.5846069357716326, 'epoch': 1.0}\n"
     ]
    }
   ],
   "source": [
    "# ~7 (!) часов обучения (НЕ ЗАПУСКАТЬ ПРОСТО ТАК!)\n",
    "\n",
    "trainer.train()\n",
    "trainer.save_model(\"./trained_model\")"
   ]
  },
  {
   "cell_type": "markdown",
   "metadata": {},
   "source": [
    "<head>\n",
    "    <style>h1 {font-size: 30px; text-align: center; color: #ff8c00}</style>\n",
    "    <style>h2 {font-size: 26px; text-align: left; color: #ff8c00}</style>\n",
    "    <style>p  {font-size: 18px; text-align: left}</style>\n",
    "    <style>f- {color: #ff8c00}</style>\n",
    "    <style>f-- {color: #71e1fe}</style>\n",
    "    <style>w- {color: red}</style>\n",
    "</head>\n",
    "<body>\n",
    "    <h2><w->(конец блока обучения)</w-></h2>\n",
    "</body>"
   ]
  },
  {
   "cell_type": "markdown",
   "metadata": {},
   "source": [
    "<head>\n",
    "    <style>h1 {font-size: 30px; text-align: center; color: #ff8c00}</style>\n",
    "    <style>h2 {font-size: 26px; text-align: left; color: #ff8c00}</style>\n",
    "    <style>p  {font-size: 18px; text-align: left}</style>\n",
    "    <style>f- {color: #ff8c00}</style>\n",
    "    <style>f-- {color: #71e1fe}</style>\n",
    "</head>\n",
    "<body>\n",
    "    <h2>Тестирование дообученной модели</h2>\n",
    "    <p>Возьмем несколько случайных примеров из датасета и попробуем на их основе сгенерировать отзывы.</p>\n",
    "</body>"
   ]
  },
  {
   "cell_type": "code",
   "execution_count": 13,
   "metadata": {},
   "outputs": [],
   "source": [
    "# (ЗАПУСКАТЬ ВСЕГДА) Подготовка функций для генерации отзывов\n",
    "\n",
    "# Немного уточненная версия промта для генерации более корректного отзыва\n",
    "def make_prompt_fix_version(rating, rubrics):\n",
    "    \"\"\"\n",
    "    Формирует промпт для генерации отзыва на основе рейтинга и рубрик.\n",
    "\n",
    "    Args:\n",
    "        rating (float): Рейтинг (например, 5.0).\n",
    "        rubrics (str): Рубрики (например, \"Кафе;Ресторан\").\n",
    "\n",
    "    Returns:\n",
    "        str: Формированный промпт.\n",
    "    \"\"\"\n",
    "\n",
    "    if rating >= 4.0:\n",
    "        sentiment = \"Положительный\"\n",
    "    elif rating >= 3.0:\n",
    "        sentiment = \"Нейтральный\"\n",
    "    else:\n",
    "        sentiment = \"Отрицательный\"\n",
    "    return f\"Rating: {rating} | Rubrics: {rubrics}\\nОтзыв ({sentiment}): \"\n",
    "\n",
    "def generate_review(rating, rubrics, generation_pipeline, max_length=150, num_return_sequences=1, do_sample=True, top_k=50, top_p=0.95, temperature=0.7):\n",
    "    \"\"\"\n",
    "    Генерирует отзыв на основе заданного рейтинга и рубрик с учётом настроения.\n",
    "\n",
    "    Args:\n",
    "        rating (float): Рейтинг (например, 5.0).\n",
    "        rubrics (str): Рубрики (например, \"Кафе;Ресторан\").\n",
    "        generation_pipeline: Пайплайн для генерации.\n",
    "        max_length (int, optional): Максимальная длина генерируемого текста (включая промпт). Defaults to 150.\n",
    "        num_return_sequences (int, optional): Количество генерируемых последовательностей. Defaults to 1.\n",
    "        do_sample (bool, optional): Использовать ли семплирование. Defaults to True.\n",
    "        top_k (int, optional): Параметр top_k для семплирования. Defaults to 50.\n",
    "        top_p (float, optional): Параметр top_p для семплирования. Defaults to 0.95.\n",
    "        temperature (float, optional): Температура для семплирования. Defaults to 0.99.\n",
    "\n",
    "    Returns:\n",
    "        list of str: Сгенерированные отзывы.\n",
    "    \"\"\"\n",
    "\n",
    "    # Формируем промпт\n",
    "    prompt = make_prompt_fix_version(rating, rubrics)\n",
    "\n",
    "    # Генерируем текст\n",
    "    generated = generation_pipeline(\n",
    "        prompt,\n",
    "        truncation=True,\n",
    "        max_length=max_length,\n",
    "        num_return_sequences=num_return_sequences,\n",
    "        do_sample=do_sample,\n",
    "        top_k=top_k,\n",
    "        top_p=top_p,\n",
    "        temperature=temperature\n",
    "    )\n",
    "\n",
    "    # Возвращаем только сгенерированный текст без промпта\n",
    "    return [gen['generated_text'].replace(prompt, '').strip() for gen in generated]\n",
    "\n",
    "def clean_review(text):\n",
    "    \"\"\"\n",
    "    Очищает текст от лишних символов и обрезает его до последнего знака препинания.\n",
    "\n",
    "    Args:\n",
    "        text (str): Исходный текст отзыва.\n",
    "\n",
    "    Returns:\n",
    "        str: Очищенный и обрезанный отзыв.\n",
    "    \"\"\"\n",
    "\n",
    "    if not isinstance(text, str):\n",
    "        return \"\"\n",
    "\n",
    "    # Заменяем все типы пробельных символов (включая переносы строк) на один пробел\n",
    "    text = re.sub(r'\\s+', ' ', text)\n",
    "\n",
    "    # Удаляем символы переноса строки, если они остались\n",
    "    text = text.replace('\\\\n', ' ').replace('\\n', ' ')\n",
    "\n",
    "    # Удаляем отдельные 'n' перед заглавными буквами, которые могли возникнуть из-за '\\n'\n",
    "    text = re.sub(r'n([А-ЯA-Z])', r'\\1', text)\n",
    "\n",
    "    # Ищем позицию последнего знака препинания (точка, восклицательный или вопросительный знак)\n",
    "    matches = list(re.finditer(r'[.!?]', text))\n",
    "    if matches:\n",
    "        last_match = matches[-1]\n",
    "        end = last_match.end()\n",
    "        text = text[:end]\n",
    "\n",
    "    # Удаляем нежелательные символы, оставляя только буквы, цифры и стандартные знаки препинания\n",
    "    text = re.sub(r'[^\\w\\s.,!?;:-]', '', text)\n",
    "    text = re.sub(r'(?<=[^а-яА-Я])-(?=[^а-яА-Я])', '', text)\n",
    "    text = re.sub(r'^-', '', text)\n",
    "\n",
    "    # Удаляем повторы слов, идущие друг за другом\n",
    "    text = re.sub(r'(^|[^а-яА-Я])(([а-яА-Я]{1,})(?:([^а-яА-Я]{1,})\\3){1,})([^а-яА-Я]|$)', r'\\1\\3\\5', text)\n",
    "\n",
    "    # Убираем лишние пробелы в начале и конце текста\n",
    "    text = text.strip()\n",
    "\n",
    "    # Удаляем пустой пункт перечисления, если он последний в тексте\n",
    "    text = re.sub(r'[0-9]{1,}\\.$', r'', text)\n",
    "    text = text.strip()\n",
    "\n",
    "    # Удаляем все лишние вподряд идущие пробелы\n",
    "    text = re.sub(r'[ ]{2,}', ' ', text)\n",
    "\n",
    "    return text"
   ]
  },
  {
   "cell_type": "code",
   "execution_count": 14,
   "metadata": {},
   "outputs": [],
   "source": [
    "# (ЗАПУСКАТЬ ВСЕГДА) (перезапускать для других примеров) Случайный список примеров для генерации\n",
    "\n",
    "r_inx_1 = random.choice(list(df.loc[df['rating'] == 1].index))\n",
    "r_inx_2 = random.choice(list(df.loc[df['rating'] == 2].index))\n",
    "r_inx_3 = random.choice(list(df.loc[df['rating'] == 3].index))\n",
    "r_inx_4 = random.choice(list(df.loc[df['rating'] == 4].index))\n",
    "r_inx_5_1 = random.choice(list(df.loc[df['rating'] == 5].index))\n",
    "r_inx_5_2 = random.choice(list(df.loc[df['rating'] == 5].index))\n",
    "r_inx_5_3 = random.choice(list(df.loc[df['rating'] == 5].index))\n",
    "\n",
    "review_params = [\n",
    "    {\"rating\": float(df['rating'].iloc[r_inx_1]), \"rubrics\": df['rubrics'].iloc[r_inx_1]},\n",
    "    {\"rating\": float(df['rating'].iloc[r_inx_2]), \"rubrics\": df['rubrics'].iloc[r_inx_2]},\n",
    "    {\"rating\": float(df['rating'].iloc[r_inx_3]), \"rubrics\": df['rubrics'].iloc[r_inx_3]},\n",
    "    {\"rating\": float(df['rating'].iloc[r_inx_4]), \"rubrics\": df['rubrics'].iloc[r_inx_4]},\n",
    "    {\"rating\": float(df['rating'].iloc[r_inx_5_1]), \"rubrics\": df['rubrics'].iloc[r_inx_5_1]},\n",
    "    {\"rating\": float(df['rating'].iloc[r_inx_5_2]), \"rubrics\": df['rubrics'].iloc[r_inx_5_2]},\n",
    "    #{\"rating\": float(df['rating'].iloc[r_inx_5_3]), \"rubrics\": df['rubrics'].iloc[r_inx_5_3]},\n",
    "    {\"rating\": 5.0, \"rubrics\": \"Кафе;Ресторан\"},\n",
    "    {\"rating\": 4.0, \"rubrics\": \"Супермаркет;Магазин продуктов\"},\n",
    "]\n",
    "\n",
    "random.shuffle(review_params)"
   ]
  },
  {
   "cell_type": "code",
   "execution_count": 15,
   "metadata": {},
   "outputs": [
    {
     "name": "stderr",
     "output_type": "stream",
     "text": [
      "Device set to use cuda\n"
     ]
    },
    {
     "data": {
      "text/html": [
       "<style type=\"text/css\">\n",
       "#T_15a3f_row0_col0, #T_15a3f_row0_col1, #T_15a3f_row0_col2, #T_15a3f_row1_col0, #T_15a3f_row1_col1, #T_15a3f_row1_col2, #T_15a3f_row2_col0, #T_15a3f_row2_col1, #T_15a3f_row2_col2, #T_15a3f_row3_col0, #T_15a3f_row3_col1, #T_15a3f_row3_col2, #T_15a3f_row4_col0, #T_15a3f_row4_col1, #T_15a3f_row4_col2, #T_15a3f_row5_col0, #T_15a3f_row5_col1, #T_15a3f_row5_col2, #T_15a3f_row6_col0, #T_15a3f_row6_col1, #T_15a3f_row6_col2, #T_15a3f_row7_col0, #T_15a3f_row7_col1, #T_15a3f_row7_col2 {\n",
       "  text-align: left;\n",
       "}\n",
       "</style>\n",
       "<table id=\"T_15a3f\">\n",
       "  <thead>\n",
       "    <tr>\n",
       "      <th id=\"T_15a3f_level0_col0\" class=\"col_heading level0 col0\" >Rating</th>\n",
       "      <th id=\"T_15a3f_level0_col1\" class=\"col_heading level0 col1\" >Rubrics</th>\n",
       "      <th id=\"T_15a3f_level0_col2\" class=\"col_heading level0 col2\" >Cleaned_Review</th>\n",
       "    </tr>\n",
       "  </thead>\n",
       "  <tbody>\n",
       "    <tr>\n",
       "      <td id=\"T_15a3f_row0_col0\" class=\"data row0 col0\" >5</td>\n",
       "      <td id=\"T_15a3f_row0_col1\" class=\"data row0 col1\" >Супермаркет</td>\n",
       "      <td id=\"T_15a3f_row0_col2\" class=\"data row0 col2\" >Выбор товаров хороший, персонал отзывчивый, всегда можно найти, что нужно. Внутри магазин чистый, ассортимент большой. В магазине всегда есть кассы самообслуживания, что очень удобно. Есть отдел готовой еды и алкогольных напитков. В магазине много товаров, которых не встретишь в других магазинах. Есть отдел с товарами, которые не продаются в других магазинах. Также можно приобрести товары по акции. Но есть ряд товаров, которые не очень радуют.</td>\n",
       "    </tr>\n",
       "    <tr>\n",
       "      <td id=\"T_15a3f_row1_col0\" class=\"data row1 col0\" >1</td>\n",
       "      <td id=\"T_15a3f_row1_col1\" class=\"data row1 col1\" >Кондитерская;Пекарня;Быстрое питание</td>\n",
       "      <td id=\"T_15a3f_row1_col2\" class=\"data row1 col2\" >1. Вкусно, но в последний раз, когда я зашла, был просто ужас. 2. Я не смогла даже сфотографировать. 3. Пришла, забрала, а там просто какой то ужас. 4. Я попросила продавца-кассира, чтобы он показал мне, где лежит мой заказ. 5. Я не смогла выбрать. 6. После чего продавец-кассир начала мне рассказывать про то, что я заказывала и сколько раз.</td>\n",
       "    </tr>\n",
       "    <tr>\n",
       "      <td id=\"T_15a3f_row2_col0\" class=\"data row2 col0\" >2</td>\n",
       "      <td id=\"T_15a3f_row2_col1\" class=\"data row2 col1\" >Ресторан;Бар, паб;Спортбар</td>\n",
       "      <td id=\"T_15a3f_row2_col2\" class=\"data row2 col2\" >Заведение очень атмосферное, но вот еда подкачала. Заехали случайно в него по рекомендации и ни разу не пожалели. Начнём с того, что мы были в зале на втором этаже. Зал небольшой, но уютный. Мы заказали блюдо из рыбы, салат, пасту и пиццу. Паста: 1. Очень мало специй и майонеза. 2. Паста была сухая, а пицца вообще не вкусная, даже не соленая. 3. Паста:</td>\n",
       "    </tr>\n",
       "    <tr>\n",
       "      <td id=\"T_15a3f_row3_col0\" class=\"data row3 col0\" >4</td>\n",
       "      <td id=\"T_15a3f_row3_col1\" class=\"data row3 col1\" >Супермаркет;Магазин продуктов</td>\n",
       "      <td id=\"T_15a3f_row3_col2\" class=\"data row3 col2\" >Приехали в магазин с ребенком, нам предложили место на втором этаже. Магазин находится в подвальном помещении. Поставил бы 5 звезд, если бы не одно НО. Долго искали место, где можно купить продукты питания, не особо большой выбор, но все равно нужно зайти и купить что-то. На входе нас встретила кассир не помню имя и попросила дать нам одноразовые тарелки для еды, мы отказались и ушли.</td>\n",
       "    </tr>\n",
       "    <tr>\n",
       "      <td id=\"T_15a3f_row4_col0\" class=\"data row4 col0\" >3</td>\n",
       "      <td id=\"T_15a3f_row4_col1\" class=\"data row4 col1\" >Гостиница</td>\n",
       "      <td id=\"T_15a3f_row4_col2\" class=\"data row4 col2\" >Из плюсов: 1. Еда очень вкусная шведский стол, в основном, все что заказывали, вкусно 2. Чисто, аккуратно не много было мусора, что приятно 3. Персонал вежливый и отзывчивый не смотря на то, что в номерах было очень жарко 4. Номера чистые и уютные. Из минусов: 1. При входе в отель не было никаких указателей, но по факту оказалось, что они есть, но мы не знали где их найти.</td>\n",
       "    </tr>\n",
       "    <tr>\n",
       "      <td id=\"T_15a3f_row5_col0\" class=\"data row5 col0\" >5</td>\n",
       "      <td id=\"T_15a3f_row5_col1\" class=\"data row5 col1\" >Кафе;Ресторан</td>\n",
       "      <td id=\"T_15a3f_row5_col2\" class=\"data row5 col2\" >Приятная атмосфера, дружелюбный персонал, хорошая кухня. Кухня, как и во всех заведениях этой сети на высоте. По поводу еды: очень вкусные блюда; не дорого; много места; есть столики на любой вкус; на веранде всегда тихо и спокойно; в зале достаточно места; не шумно; есть туалет. По поводу обслуживания: во время посещения всегда есть кто-то из персонала, чтобы принять заказ.</td>\n",
       "    </tr>\n",
       "    <tr>\n",
       "      <td id=\"T_15a3f_row6_col0\" class=\"data row6 col0\" >5</td>\n",
       "      <td id=\"T_15a3f_row6_col1\" class=\"data row6 col1\" >Театр;Концертный зал;Театрально-концертная касса</td>\n",
       "      <td id=\"T_15a3f_row6_col2\" class=\"data row6 col2\" >Впервые побывали в Театре на Таганке в январе 2023 года и остались в восторге от увиденного. Отмечу: 1. Театр небольшой, но уютный, современный, с прекрасной акустикой и удобными креслами. 2. Персонал очень вежливый, приветливый, всегда готовы помочь и ответить на все вопросы. 3. В театре тепло и уютно. 4. Актёрская работа очень качественная.</td>\n",
       "    </tr>\n",
       "    <tr>\n",
       "      <td id=\"T_15a3f_row7_col0\" class=\"data row7 col0\" >4</td>\n",
       "      <td id=\"T_15a3f_row7_col1\" class=\"data row7 col1\" >Магазин хозтоваров и бытовой химии;Крепёжные изделия;Лакокрасочные материалы;Магазин сантехники;Строительный магазин</td>\n",
       "      <td id=\"T_15a3f_row7_col2\" class=\"data row7 col2\" >1. Хороший ассортимент товаров для дома. 2. Всегда можно найти то, что нужно. 3. На кассах самообслуживания всегда вежливые и доброжелательные кассиры. 4. Цены не высокие. 5. Очень много акций и скидок. 6. Есть бонусная программа. 7. Всегда есть возможность оплатить товар, если нужно. 8. Много акций и скидок. 9. Есть рассрочка на товар.</td>\n",
       "    </tr>\n",
       "  </tbody>\n",
       "</table>\n"
      ],
      "text/plain": [
       "<pandas.io.formats.style.Styler at 0x2a4571412e0>"
      ]
     },
     "metadata": {},
     "output_type": "display_data"
    }
   ],
   "source": [
    "# (ЗАПУСКАТЬ ВСЕГДА) (перезапускать для других отзывов для тех же примеров) Генерация отзывов\n",
    "\n",
    "# Создаём пайплайн генерации (text-generation)\n",
    "generation_pipeline = pipeline(\n",
    "    \"text-generation\",\n",
    "    model=\"./trained_model\",  # путь к нашей дообученной модели\n",
    "    tokenizer=tokenizer,\n",
    "    device=DEVICE\n",
    ")\n",
    "\n",
    "# Генерируем отзывы\n",
    "generated_reviews = []\n",
    "for params in review_params:\n",
    "    reviews = generate_review(rating=params[\"rating\"], rubrics=params[\"rubrics\"], generation_pipeline=generation_pipeline)\n",
    "    for review in reviews:\n",
    "        generated_reviews.append({\n",
    "            \"Rating\": params[\"rating\"],\n",
    "            \"Rubrics\": params[\"rubrics\"],\n",
    "            \"Review\": review\n",
    "        })\n",
    "\n",
    "# Создаём DataFrame\n",
    "df_generated_reviews = pd.DataFrame(generated_reviews)\n",
    "\n",
    "# Применяем функцию очистки к столбцу 'Review'\n",
    "df_generated_reviews['Cleaned_Review'] = df_generated_reviews['Review'].apply(clean_review)\n",
    "\n",
    "# Выводим обновлённую таблицу\n",
    "df_generated_reviews['Rating'] = df_generated_reviews['Rating'].astype(int)\n",
    "with pd.option_context('display.max_colwidth', 200):\n",
    "    display(pd.DataFrame(df_generated_reviews[['Rating', 'Rubrics', 'Cleaned_Review']]).style.set_properties(**{'text-align': 'left'}).hide(axis=0))"
   ]
  },
  {
   "cell_type": "markdown",
   "metadata": {},
   "source": [
    "<head>\n",
    "    <style>h1 {font-size: 30px; text-align: center; color: #ff8c00}</style>\n",
    "    <style>h2 {font-size: 26px; text-align: left; color: #ff8c00}</style>\n",
    "    <style>p  {font-size: 18px; text-align: left}</style>\n",
    "    <style>f- {color: #ff8c00}</style>\n",
    "    <style>f-- {color: #71e1fe}</style>\n",
    "</head>\n",
    "<body>\n",
    "    <h2>Итоги</h2>\n",
    "    <p>Как видно, <f-->'sberbank-ai/rugpt3small_based_on_gpt2'</f--> с одной эпохой дообучения справляется с поставленной задачей достаточно посредственно. В рамках учебного проекта и ограниченного времени и аппаратных ресурсов, остановимся на текущем результате. Тем не менее, отметим потенциальные пути улучшения качества генерации модели:</p>\n",
    "    <ul>\n",
    "    <li>Во-первых, при наличии достаточных вычислительных мощностей, можно было бы выбрать более тяжеловесную и продвинутую версию GTP.</li>\n",
    "    <li>Во-вторых, аналогично, можно было бы увеличить число эпох обучения (хотя бы до 2-3).</li>\n",
    "    <li>В-третьих, можно было бы дополнительно поэкспериментировать с промтами (как с тем, что использовался для дообучения, так и с генеративным видоизмененным промтом).</li>\n",
    "    <li>В-четвертых, можно было бы попробовать модифицировать и дополнительно предобработать датасет.</li>\n",
    "    </ul>\n",
    "    <p>По идее, последние два пункта не требуют напрямую большого количества времени и аппаратных ресурсов для реализации. Однако, проблемой является тот факт, что для проверки того, как очередные изменения повлияли на конечный результат, необходимо снова переобучать модель. Причем, делать это придется много раз, постоянно то добавляя, то убирая какие-то конкретные изменения. При этом, проведение тестов только на малой части данных так же определенно будет оказывать влияние на итоговый результат (так как для больших языковых моделей количество практически всегда переходит в качество) и может искажать влияние конкретных изменений. И, помимо всего вышесказанного, сама модель <f-->'sberbank-ai/rugpt3small_based_on_gpt2'</f--> является не такой уж высококачественной (однако даже она весьма требовательна к \"железу\"), поэтому, вероятно, иногда даже хорошие улучшения будут теряться и не особо отражаться на конечном качестве модели, что еще сильнее затруднит проведение экспериментов по улучшению качества генерации отзывов. Тем не менее, в результате выполнения данного проекта были приобретены практические навыки работы с GPT-подобными моделями, поэтому в целом выполнение учебного проекта можно считать умеренно успешным и завершенным.</p>\n",
    "</body>"
   ]
  }
 ],
 "metadata": {
  "kernelspec": {
   "display_name": "Python 3",
   "language": "python",
   "name": "python3"
  },
  "language_info": {
   "codemirror_mode": {
    "name": "ipython",
    "version": 3
   },
   "file_extension": ".py",
   "mimetype": "text/x-python",
   "name": "python",
   "nbconvert_exporter": "python",
   "pygments_lexer": "ipython3",
   "version": "3.12.6"
  }
 },
 "nbformat": 4,
 "nbformat_minor": 2
}
